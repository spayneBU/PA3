{
 "cells": [
  {
   "cell_type": "markdown",
   "metadata": {},
   "source": [
    "# Programming Assignment 3\n",
    "---\n",
    "**Author:** Sheridan Payne  \n",
    "**Version:** 1.0  \n",
    "**Semester:** Fall 2020  \n",
    "\n",
    "This *notebook* contains my solution to **Programming Assignment 3**\n",
    "\n",
    "- Problem 1: calcArea and calcPerimeter Functions\n",
    "- Problem 2: Guess the Number\n",
    "- Problem 3: meanTemp Function"
   ]
  },
  {
   "cell_type": "markdown",
   "metadata": {},
   "source": [
    "Problem 1"
   ]
  },
  {
   "cell_type": "code",
   "execution_count": 1,
   "metadata": {},
   "outputs": [],
   "source": [
    "import numpy"
   ]
  },
  {
   "cell_type": "code",
   "execution_count": 2,
   "metadata": {},
   "outputs": [],
   "source": [
    "def calcArea(A=1,B=1,C=1):\n",
    "    S = (A+B+C)/2\n",
    "    area = numpy.sqrt(S*(S-A)*(S-B)*(S-C))\n",
    "    return area\n",
    "\n",
    "def calcPerimeter(A=1,B=1,C=1):\n",
    "    perimeter = A+B+C\n",
    "    return perimeter"
   ]
  },
  {
   "cell_type": "code",
   "execution_count": 3,
   "metadata": {},
   "outputs": [
    {
     "name": "stdout",
     "output_type": "stream",
     "text": [
      "Enter the length of side A: 5\n",
      "Enter the length of side B: 5\n",
      "Enter the length of side C: 5\n",
      "The area of the triangle is approximately 10.825318 square units.\n",
      "The perimeter of the triangle is 15 linear units.\n"
     ]
    }
   ],
   "source": [
    "side1 = int(input(\"Enter the length of side A: \"))\n",
    "side2 = int(input(\"Enter the length of side B: \"))\n",
    "side3 = int(input(\"Enter the length of side C: \"))\n",
    "print(\"The area of the triangle is approximately\",f'{calcArea(side1,side2,side3):.6f}',\"square units.\")\n",
    "print(\"The perimeter of the triangle is\",calcPerimeter(side1,side2,side3),\"linear units.\")"
   ]
  },
  {
   "cell_type": "code",
   "execution_count": 4,
   "metadata": {},
   "outputs": [
    {
     "name": "stdout",
     "output_type": "stream",
     "text": [
      "The area of the triangle is approximately 0.433013 square units.\n",
      "The perimeter of the triangle is 3 linear units.\n"
     ]
    }
   ],
   "source": [
    "area = calcArea()\n",
    "perimeter = calcPerimeter()\n",
    "print(\"The area of the triangle is approximately\",f'{area:.6f}',\"square units.\")\n",
    "print(\"The perimeter of the triangle is\",perimeter,\"linear units.\")"
   ]
  },
  {
   "cell_type": "markdown",
   "metadata": {},
   "source": [
    "Problem 2"
   ]
  },
  {
   "cell_type": "code",
   "execution_count": 1,
   "metadata": {},
   "outputs": [],
   "source": [
    "import random"
   ]
  },
  {
   "cell_type": "code",
   "execution_count": 2,
   "metadata": {},
   "outputs": [],
   "source": [
    "def evaluateGuess(guess_num, chosen_num):\n",
    "    if guess_num < chosen_num:\n",
    "        print(\"Too low! Guess again\")\n",
    "    if guess_num > chosen_num:\n",
    "        print(\"Too high! Guess again\")\n",
    "    if guess_num == chosen_num:\n",
    "        print(\"Correct!\")"
   ]
  },
  {
   "cell_type": "code",
   "execution_count": 4,
   "metadata": {},
   "outputs": [
    {
     "name": "stdout",
     "output_type": "stream",
     "text": [
      "Enter your guess: 500\n",
      "Too high! Guess again\n",
      "Enter your guess: 400\n",
      "Too high! Guess again\n",
      "Enter your guess: 300\n",
      "Too high! Guess again\n",
      "Enter your guess: 200\n",
      "Too high! Guess again\n",
      "Enter your guess: 100\n",
      "Too high! Guess again\n",
      "Enter your guess: 50\n",
      "Too high! Guess again\n",
      "Enter your guess: 40\n",
      "Too high! Guess again\n",
      "Enter your guess: 30\n",
      "Too high! Guess again\n",
      "Enter your guess: 20\n",
      "Too high! Guess again\n",
      "Enter your guess: 10\n",
      "Too high! Guess again\n",
      "Enter your guess: 9\n",
      "Too high! Guess again\n",
      "Enter your guess: 8\n",
      "Correct!\n"
     ]
    }
   ],
   "source": [
    "a = False\n",
    "chosen_num = random.randint(1,1000)\n",
    "while a==False:\n",
    "    guess_num = int(input(\"Enter your guess: \"))\n",
    "    evaluateGuess(guess_num, chosen_num)\n",
    "    if guess_num == chosen_num:\n",
    "        a = True"
   ]
  },
  {
   "cell_type": "markdown",
   "metadata": {},
   "source": [
    "Problem 3"
   ]
  },
  {
   "cell_type": "code",
   "execution_count": 6,
   "metadata": {},
   "outputs": [],
   "source": [
    "import statistics as stats"
   ]
  },
  {
   "cell_type": "code",
   "execution_count": 9,
   "metadata": {},
   "outputs": [],
   "source": [
    "def meanTemp(x):\n",
    "    return stats.mean(x)"
   ]
  },
  {
   "cell_type": "code",
   "execution_count": 14,
   "metadata": {},
   "outputs": [
    {
     "name": "stdout",
     "output_type": "stream",
     "text": [
      "The mean temperature for the past 11 days is 74.55 degrees F.\n"
     ]
    }
   ],
   "source": [
    "Temps = [77,79,76,78,81,79,74,71,69,69,67]\n",
    "print(\"The mean temperature for the past\", len(Temps), \"days is\", f'{meanTemp(Temps):.2f}', \"degrees F.\")"
   ]
  }
 ],
 "metadata": {
  "kernelspec": {
   "display_name": "Python 3",
   "language": "python",
   "name": "python3"
  },
  "language_info": {
   "codemirror_mode": {
    "name": "ipython",
    "version": 3
   },
   "file_extension": ".py",
   "mimetype": "text/x-python",
   "name": "python",
   "nbconvert_exporter": "python",
   "pygments_lexer": "ipython3",
   "version": "3.8.3"
  }
 },
 "nbformat": 4,
 "nbformat_minor": 4
}
